{
 "cells": [
  {
   "cell_type": "markdown",
   "metadata": {},
   "source": [
    "# Relatório A3\n",
    "Análise da base de dados do PNAD 2015."
   ]
  },
  {
   "cell_type": "markdown",
   "metadata": {},
   "source": [
    "## Instalação de pacotes"
   ]
  },
  {
   "cell_type": "code",
   "execution_count": 144,
   "metadata": {},
   "outputs": [
    {
     "name": "stderr",
     "output_type": "stream",
     "text": [
      "Warning message:\n",
      "\"package 'ggplot2' is in use and will not be installed\"Warning message:\n",
      "\"package 'ggthemes' is in use and will not be installed\""
     ]
    }
   ],
   "source": [
    "install.packages('ggplot2')\n",
    "install.packages('ggthemes')"
   ]
  },
  {
   "cell_type": "markdown",
   "metadata": {},
   "source": [
    "## Carrega todos pacotes"
   ]
  },
  {
   "cell_type": "code",
   "execution_count": 145,
   "metadata": {},
   "outputs": [],
   "source": [
    "library('ggplot2')\n",
    "library('ggthemes')"
   ]
  },
  {
   "cell_type": "markdown",
   "metadata": {},
   "source": [
    "## Leitura da base de dados"
   ]
  },
  {
   "cell_type": "code",
   "execution_count": 146,
   "metadata": {},
   "outputs": [
    {
     "data": {
      "text/html": [
       "<table>\n",
       "<thead><tr><th scope=col>UF</th><th scope=col>Sexo</th><th scope=col>Idade</th><th scope=col>Cor</th><th scope=col>Anos.de.Estudo</th><th scope=col>Renda</th><th scope=col>Altura</th></tr></thead>\n",
       "<tbody>\n",
       "\t<tr><td>11      </td><td>0       </td><td>23      </td><td>8       </td><td>12      </td><td> 800    </td><td>1.603808</td></tr>\n",
       "\t<tr><td>11      </td><td>1       </td><td>23      </td><td>2       </td><td>12      </td><td>1150    </td><td>1.739790</td></tr>\n",
       "\t<tr><td>11      </td><td>1       </td><td>35      </td><td>8       </td><td>15      </td><td> 880    </td><td>1.760444</td></tr>\n",
       "\t<tr><td>11      </td><td>0       </td><td>46      </td><td>2       </td><td> 6      </td><td>3500    </td><td>1.783158</td></tr>\n",
       "\t<tr><td>11      </td><td>1       </td><td>47      </td><td>8       </td><td> 9      </td><td> 150    </td><td>1.690631</td></tr>\n",
       "\t<tr><td>11      </td><td>1       </td><td>34      </td><td>8       </td><td>12      </td><td> 790    </td><td>1.637906</td></tr>\n",
       "</tbody>\n",
       "</table>\n"
      ],
      "text/latex": [
       "\\begin{tabular}{r|lllllll}\n",
       " UF & Sexo & Idade & Cor & Anos.de.Estudo & Renda & Altura\\\\\n",
       "\\hline\n",
       "\t 11       & 0        & 23       & 8        & 12       &  800     & 1.603808\\\\\n",
       "\t 11       & 1        & 23       & 2        & 12       & 1150     & 1.739790\\\\\n",
       "\t 11       & 1        & 35       & 8        & 15       &  880     & 1.760444\\\\\n",
       "\t 11       & 0        & 46       & 2        &  6       & 3500     & 1.783158\\\\\n",
       "\t 11       & 1        & 47       & 8        &  9       &  150     & 1.690631\\\\\n",
       "\t 11       & 1        & 34       & 8        & 12       &  790     & 1.637906\\\\\n",
       "\\end{tabular}\n"
      ],
      "text/markdown": [
       "\n",
       "| UF | Sexo | Idade | Cor | Anos.de.Estudo | Renda | Altura |\n",
       "|---|---|---|---|---|---|---|\n",
       "| 11       | 0        | 23       | 8        | 12       |  800     | 1.603808 |\n",
       "| 11       | 1        | 23       | 2        | 12       | 1150     | 1.739790 |\n",
       "| 11       | 1        | 35       | 8        | 15       |  880     | 1.760444 |\n",
       "| 11       | 0        | 46       | 2        |  6       | 3500     | 1.783158 |\n",
       "| 11       | 1        | 47       | 8        |  9       |  150     | 1.690631 |\n",
       "| 11       | 1        | 34       | 8        | 12       |  790     | 1.637906 |\n",
       "\n"
      ],
      "text/plain": [
       "  UF Sexo Idade Cor Anos.de.Estudo Renda Altura  \n",
       "1 11 0    23    8   12              800  1.603808\n",
       "2 11 1    23    2   12             1150  1.739790\n",
       "3 11 1    35    8   15              880  1.760444\n",
       "4 11 0    46    2    6             3500  1.783158\n",
       "5 11 1    47    8    9              150  1.690631\n",
       "6 11 1    34    8   12              790  1.637906"
      ]
     },
     "metadata": {},
     "output_type": "display_data"
    }
   ],
   "source": [
    "dados = read.csv('dados.csv')\n",
    "head(dados)"
   ]
  },
  {
   "cell_type": "markdown",
   "metadata": {},
   "source": [
    "## Formatação dos gráficos"
   ]
  },
  {
   "cell_type": "code",
   "execution_count": 147,
   "metadata": {},
   "outputs": [],
   "source": [
    "options(repr.plot.width = 9, repr.plot.height = 6)\n",
    "formatos <- theme(\n",
    "        plot.title=element_text(size = 14, hjust = 0.5),\n",
    "        axis.title.y=element_text(size = 12, vjust = +0.2),\n",
    "        axis.title.x=element_text(size = 12, vjust = -0.2),\n",
    "        axis.text.y=element_text(size = 10),\n",
    "        axis.text.x=element_text(size = 10)\n",
    "    ) +\n",
    "  theme_economist()"
   ]
  },
  {
   "cell_type": "markdown",
   "metadata": {},
   "source": [
    "## Criação das categorias do dataframe"
   ]
  },
  {
   "cell_type": "code",
   "execution_count": 148,
   "metadata": {},
   "outputs": [],
   "source": [
    "sexo = c(\n",
    "    'Masculino', \n",
    "    'Feminino'\n",
    ")\n",
    "cor = c(\n",
    "    'Indígena', \n",
    "    'Branca', \n",
    "    'Preta', \n",
    "    'Amarela', \n",
    "    'Parda'\n",
    ")\n",
    "anos_de_estudo = c(\n",
    "    'Sem instrução e menos de 1 ano', \n",
    "    '1 ano', \n",
    "    '2 anos', \n",
    "    '3 anos', \n",
    "    '4 anos', \n",
    "    '5 anos', \n",
    "    '6 anos', \n",
    "    '7 anos', \n",
    "    '8 anos', \n",
    "    '9 anos', \n",
    "    '10 anos', \n",
    "    '11 anos', \n",
    "    '12 anos', \n",
    "    '13 anos', \n",
    "    '14 anos', \n",
    "    '15 anos ou mais', \n",
    "    'Não determinados'\n",
    ")\n",
    "\n",
    "uf = c(\n",
    "    'Rondônia', \n",
    "    'Acre', \n",
    "    'Amazonas', \n",
    "    'Roraima', \n",
    "    'Pará', \n",
    "    'Amapá', \n",
    "    'Tocantins', \n",
    "    'Maranhão', \n",
    "    'Piauí', \n",
    "    'Ceará', \n",
    "    'Rio Grande do Norte', \n",
    "    'Paraíba', \n",
    "    'Pernambuco', \n",
    "    'Alagoas', \n",
    "    'Sergipe', \n",
    "    'Bahia', \n",
    "    'Minas Gerais', \n",
    "    'Espírito Santo', \n",
    "    'Rio de Janeiro', \n",
    "    'São Paulo', \n",
    "    'Paraná', \n",
    "    'Santa Catarina', \n",
    "    'Rio Grande do Sul', \n",
    "    'Mato Grosso do Sul', \n",
    "    'Mato Grosso', \n",
    "    'Goiás', \n",
    "    'Distrito Federal'\n",
    ")"
   ]
  },
  {
   "cell_type": "code",
   "execution_count": 149,
   "metadata": {},
   "outputs": [],
   "source": [
    "dados$Cat.Sexo <- factor(dados$Sexo)\n",
    "levels(dados$Cat.Sexo) <- sexo\n",
    "\n",
    "dados$Cat.Cor <- factor(dados$Cor)\n",
    "levels(dados$Cat.Cor) <- cor\n",
    "\n",
    "dados$Cat.Anos.de.Estudo <- factor(dados$Anos.de.Estudo, order = TRUE)\n",
    "levels(dados$Cat.Anos.de.Estudo) <- anos_de_estudo\n",
    "\n",
    "dados$Cat.UF <- factor(dados$UF, ordered = TRUE)\n",
    "levels(dados$Cat.UF) <- uf"
   ]
  },
  {
   "cell_type": "markdown",
   "metadata": {},
   "source": [
    "## Análise Renda"
   ]
  },
  {
   "cell_type": "code",
   "execution_count": 150,
   "metadata": {},
   "outputs": [
    {
     "name": "stderr",
     "output_type": "stream",
     "text": [
      "`stat_bin()` using `bins = 30`. Pick better value with `binwidth`.\n"
     ]
    },
    {
     "data": {
      "image/png": "[encoded data removed]",
      "text/plain": [
       "plot without title"
      ]
     },
     "metadata": {},
     "output_type": "display_data"
    }
   ],
   "source": [
    "ggplot(data = dados[dados$Renda < 20000, ], aes(x = Renda)) +\n",
    "  geom_histogram() +\n",
    "  ylab('Frequência') +\n",
    "  ggtitle(\"Distribuição de frequências da renda\") +\n",
    "  formatos"
   ]
  },
  {
   "cell_type": "markdown",
   "metadata": {},
   "source": [
    "### Conclusões\n",
    "No gráfico acima é possível observar que o gráfico é assimétrico à direita e a maior parte da renda se concentra na faixa de 1 salário mínimo. A maior parte da população possui renda entre 0 e 5000 e uma quantidade mínima da população possui renda acima de 5000."
   ]
  },
  {
   "cell_type": "markdown",
   "metadata": {},
   "source": [
    "## Análise Sexo x Cor x Renda"
   ]
  },
  {
   "cell_type": "code",
   "execution_count": 151,
   "metadata": {},
   "outputs": [
    {
     "data": {
      "image/png": "[encoded data removed]",
      "text/plain": [
       "plot without title"
      ]
     },
     "metadata": {},
     "output_type": "display_data"
    }
   ],
   "source": [
    "ggplot(data = dados[dados$Renda < 10000, ], aes(x = Cat.Cor, y = Renda, fill = Cat.Sexo)) +\n",
    "  geom_boxplot(size = 0.2) +\n",
    "  coord_flip() +\n",
    "  xlab(\"Cor\") +\n",
    "  ylab(\"Renda\") +\n",
    "  ggtitle(\"Boxplot Sexo x Cor x Renda\") +\n",
    "  labs(fill = \"Sexo\") +\n",
    "  formatos"
   ]
  },
  {
   "cell_type": "markdown",
   "metadata": {},
   "source": [
    "### Conclusões\n",
    "No gráfico acima podemos perceber que os indivíduos da cor amarela possuem a maior mediana de renda em ambos os sexos seguido da cor branca. O mesmo se aplica a amplitude de salário, tendo a cor amarela a maior amplitude e a cor branca a segunda maior. Na cor amarela podemos observar a maior renda, mas poucos outliers, enquanto a cor branca e parda possuem renda mediana menor porém uma quantidade grande de outliers. Em todas as cores os indivíduos do sexo masculino ganham mais do que os indivíduos do sexo feminino. As cores preta, parda e indígena possuem renda relativamente baixa comparada com as amarela e branca, sendo que a indígena também possui uma quantidade baixa de outliers."
   ]
  },
  {
   "cell_type": "markdown",
   "metadata": {},
   "source": [
    "## Análise Renda x Sexo x Anos de Estudo"
   ]
  },
  {
   "cell_type": "code",
   "execution_count": 154,
   "metadata": {},
   "outputs": [
    {
     "data": {
      "image/png": "[encoded data removed]",
      "text/plain": [
       "plot without title"
      ]
     },
     "metadata": {},
     "output_type": "display_data"
    }
   ],
   "source": [
    "ggplot(data = dados[dados$Renda < 10000, ], aes(x = Cat.Anos.de.Estudo, y = Renda, fill = Cat.Sexo)) +\n",
    "  geom_boxplot(size = 0.2) +\n",
    "  coord_flip() +\n",
    "  xlab(\"Anos de Estudo\") +\n",
    "  ylab(\"Renda\") +\n",
    "  ggtitle(\"Boxplot Anos de Estudo x Sexo x Renda\") +\n",
    "  labs(fill = \"Sexo\") +\n",
    "  formatos"
   ]
  },
  {
   "cell_type": "markdown",
   "metadata": {},
   "source": [
    "### Conclusões\n",
    "No gráfico acima podemos observar que a renda aumenta de acordo com os anos de estudo sendo sem instrução ou menos de um ano a mediana e amplitude mais baixa e 15 anos ou mais a maior. No gráfico podemos observar que a diferença de renda considerando apenas o sexo e anos de estudo existe sendo maior para os homens em todos os casos."
   ]
  },
  {
   "cell_type": "markdown",
   "metadata": {},
   "source": [
    "## Análise Renda x UF"
   ]
  },
  {
   "cell_type": "code",
   "execution_count": 153,
   "metadata": {},
   "outputs": [
    {
     "data": {
      "image/png": "[encoded data removed]",
      "text/plain": [
       "plot without title"
      ]
     },
     "metadata": {},
     "output_type": "display_data"
    }
   ],
   "source": [
    "ggplot(data = dados[dados$Renda < 10000, ], aes(x = Cat.UF, y = Renda, group = Cat.UF)) +\n",
    "  geom_boxplot(size = 0.2) +\n",
    "  coord_flip() +\n",
    "  xlab(\"UF\") +\n",
    "  ylab(\"Renda\") +\n",
    "  ggtitle(\"Boxplot UF x Renda\") +\n",
    "  formatos"
   ]
  },
  {
   "cell_type": "markdown",
   "metadata": {},
   "source": [
    "### Conclusão\n",
    "No gráfico acima podemos observar que a maior renda está concentrada no Distrito Federal, tendo a maior mediana e a maior amplitude de renda de todas as outras UFs. Em seguida temos Santa Catarina e São Paulo com a maior renda e por último as UFs do Piauí e Maranhão com a menor renda."
   ]
  }
 ],
 "metadata": {
  "kernelspec": {
   "display_name": "R",
   "language": "R",
   "name": "ir"
  },
  "language_info": {
   "codemirror_mode": "r",
   "file_extension": ".r",
   "mimetype": "text/x-r-source",
   "name": "R",
   "pygments_lexer": "r",
   "version": "3.6.1"
  }
 },
 "nbformat": 4,
 "nbformat_minor": 4
}
